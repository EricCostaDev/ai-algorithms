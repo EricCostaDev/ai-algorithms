{
  "nbformat": 4,
  "nbformat_minor": 0,
  "metadata": {
    "colab": {
      "provenance": []
    },
    "kernelspec": {
      "name": "python3",
      "display_name": "Python 3"
    },
    "language_info": {
      "name": "python"
    }
  },
  "cells": [
    {
      "cell_type": "markdown",
      "source": [
        "# Computational problem 2"
      ],
      "metadata": {
        "id": "k6fyotPGLxfq"
      }
    },
    {
      "cell_type": "markdown",
      "source": [
        "\n",
        "**The two optmization case studies:**\n",
        "\n",
        "\n",
        "*   IMAGE RESTORARION\n",
        "*   Welder beam design\n",
        "\n",
        "\n",
        "**The three *evolutionary computation* approaches choosed:**\n",
        "\n",
        "\n",
        "*   Genetic Algorithms\n",
        "*   Item da lista\n",
        "*   Differential Evolution\n",
        "\n",
        "**The three *swarm intelligence* approaches choosed:**\n",
        "\n",
        "*   particle swarm optimization\n",
        "*   Item da lista\n",
        "*   Item da lista"
      ],
      "metadata": {
        "id": "n0RTQjVB_G67"
      }
    },
    {
      "cell_type": "markdown",
      "source": [
        "## **Welder beam design**"
      ],
      "metadata": {
        "id": "qGc65RXxdxR1"
      }
    },
    {
      "cell_type": "markdown",
      "source": [],
      "metadata": {
        "id": "g292AjOdenng"
      }
    },
    {
      "cell_type": "code",
      "source": [
        "def beam_design_objective(h, l, t, b):\n",
        "    # h, l, t, b = design\n",
        "    # Ensure the variables are within the constraints\n",
        "    if h <= 0 or l <= 0 or t <= 0 or b <= 0:\n",
        "        return -1\n",
        "    elif t > min(h, b)/2:\n",
        "        return -1\n",
        "    # Calculate the moment of inertia\n",
        "    I = (b*h**3)/12\n",
        "    # Calculate the maximum stress\n",
        "    sigma_max = (6*l*I)/(h*b**2)\n",
        "    # Evaluate the objective function\n",
        "    objective = 1/sigma_max\n",
        "    return objective\n",
        "\n"
      ],
      "metadata": {
        "id": "00aIKNd9l6w3"
      },
      "execution_count": null,
      "outputs": []
    },
    {
      "cell_type": "markdown",
      "source": [
        "### **GENETIC ALGORITHM**"
      ],
      "metadata": {
        "id": "Juja40dQ1c8F"
      }
    },
    {
      "cell_type": "code",
      "source": [
        "import random\n",
        "import numpy as np\n",
        "\n",
        "def objective_function(design):\n",
        "    \"\"\"Objective function to optimize beam design\"\"\"\n",
        "    h, l, t, b = design[:4]\n",
        "    fitness = beam_design_objective(h, l, t, b)\n",
        "    return fitness\n",
        "\n",
        "def generate_population(pop_size, design_size):\n",
        "    \"\"\"Generate an initial population of designs\"\"\"\n",
        "    low = [0.1, 0.1, 0.1, 0.1]\n",
        "    high = [2, 10, 10, 2]\n",
        "    print('size' , pop_size, design_size)\n",
        "    population = np.random.uniform(low=low, high=high, size=(pop_size, design_size))\n",
        "    return population\n",
        "\n",
        "\n",
        "def evaluate_population(population):\n",
        "    \"\"\"Evaluate the fitness of each design in the population\"\"\"\n",
        "    fitness = []\n",
        "    for design in population:\n",
        "        fitness.append(objective_function(design))\n",
        "    return fitness\n",
        "\n",
        "def select_parents(population, fitness, num_parents):\n",
        "    \"\"\"Select the best designs to use as parents for crossover\"\"\"\n",
        "    parents = np.empty((num_parents, len(population[0])))\n",
        "    for parent in range(num_parents):\n",
        "        max_fitness_idx = np.where(fitness == np.max(fitness))\n",
        "        max_fitness_idx = max_fitness_idx[0][0]\n",
        "        parents[parent, :] = population[max_fitness_idx]\n",
        "        population = np.delete(population, max_fitness_idx, axis=0)\n",
        "        fitness = np.delete(fitness, max_fitness_idx)\n",
        "\n",
        "    return parents\n",
        "\n",
        "def crossover(parents, offspring_size):\n",
        "    \"\"\"Create a new generation of designs by performing crossover\"\"\"\n",
        "    offspring_size = list(offspring_size)\n",
        "    offspring = np.empty(offspring_size)\n",
        "    crossover_point = np.uint32(offspring_size[1]/2)\n",
        "    for k in range(offspring_size[0]):\n",
        "        parent1_idx = k%parents.shape[0]\n",
        "        parent2_idx = (k+1)%parents.shape[0]\n",
        "        offspring[k, 0:crossover_point] = parents[parent1_idx, 0:crossover_point]\n",
        "        offspring[k, crossover_point:] = parents[parent2_idx, crossover_point:]\n",
        "    return offspring\n",
        "\n",
        "def mutate(offspring):\n",
        "    \"\"\"Introduce mutations in the offspring designs\"\"\"\n",
        "    for idx in range(offspring.shape[0]):\n",
        "        mutation_chance = random.uniform(0, 1)\n",
        "        if mutation_chance <= 0.1:\n",
        "            mutation_value = random.uniform(-1, 1)\n",
        "            offspring[idx, 4] = offspring[idx, 4] + mutation_value\n",
        "    return offspring\n",
        "\n",
        "def genetic_algorithm(pop_size, design_size, num_generations):\n",
        "    \"\"\"Main function to perform the genetic algorithm\"\"\"\n",
        "    population = generate_population(pop_size, design_size)\n",
        "    for generation in range(num_generations):\n",
        "        fitness = np.apply_along_axis(objective_function, 1, population)\n",
        "        parents = select_parents(population, fitness, pop_size)\n",
        "        offspring = crossover(parents, (pop_size-parents.shape[0], design_size))\n",
        "        offspring = mutate(offspring)\n",
        "        if len(parents) == pop_size:\n",
        "          population = parents\n",
        "        else:\n",
        "          population[0:len(parents), :] = parents\n",
        "          population[len(parents):, :] = offspring\n",
        "    best_idx = np.where(fitness == np.max(fitness))\n",
        "    best_design = population[best_idx[0][0], :]\n",
        "    return best_design, np.max(fitness)\n",
        "\n",
        "\n"
      ],
      "metadata": {
        "id": "B9c4fJedegSp"
      },
      "execution_count": null,
      "outputs": []
    },
    {
      "cell_type": "markdown",
      "source": [
        "### **particle swarm optimization**"
      ],
      "metadata": {
        "id": "622ivjec1lmE"
      }
    },
    {
      "cell_type": "code",
      "source": [
        "import numpy as np\n",
        "\n",
        "def particle_swarm_optimization(cost_function, num_particles, num_iterations, initial_positions=None,\n",
        "                                velocity_clamp=None, personal_best_weight=0.5, global_best_weight=0.5):\n",
        "    \"\"\"\n",
        "    Optimize a cost function using Particle Swarm Optimization (PSO) algorithm.\n",
        "\n",
        "    :param cost_function: The cost function to be minimized.\n",
        "    :param num_particles: Number of particles in the swarm.\n",
        "    :param num_iterations: Number of iterations to run the optimization.\n",
        "    :param initial_positions: Initial positions for each particle. If None, the initial positions are randomly generated.\n",
        "    :param velocity_clamp: Velocity clamp for each particle. If None, no velocity clamping is performed.\n",
        "    :param personal_best_weight: Weight applied to the personal best position.\n",
        "    :param global_best_weight: Weight applied to the global best position.\n",
        "\n",
        "    :return: The best position found by the swarm and the corresponding cost.\n",
        "    \"\"\"\n",
        "    # Initialize the swarm\n",
        "    if initial_positions is None:\n",
        "        positions = np.random.uniform(size=(num_particles, cost_function.dimension))\n",
        "    else:\n",
        "        positions = initial_positions\n",
        "\n",
        "    velocities = np.zeros_like(positions)\n",
        "    personal_best_positions = positions.copy()\n",
        "    personal_best_costs = np.array([cost_function.evaluate(p) for p in personal_best_positions])\n",
        "    global_best_position = personal_best_positions[np.argmin(personal_best_costs)]\n",
        "    global_best_cost = np.min(personal_best_costs)\n",
        "\n",
        "    # Run the optimization loop\n",
        "    for iteration in range(num_iterations):\n",
        "        # Update the particle velocities\n",
        "        r1 = np.random.uniform(size=(num_particles, cost_function.dimension))\n",
        "        r2 = np.random.uniform(size=(num_particles, cost_function.dimension))\n",
        "        velocities = (personal_best_weight * r1 * (personal_best_positions - positions) +\n",
        "                      global_best_weight * r2 * (global_best_position - positions))\n",
        "\n",
        "        # Apply velocity clamping, if specified\n",
        "        if velocity_clamp is not None:\n",
        "            velocities = np.clip(velocities, -velocity_clamp, velocity_clamp)\n",
        "\n",
        "        # Update the particle positions\n",
        "        positions = positions + velocities\n",
        "\n",
        "        # Update the personal best positions and costs\n",
        "        for i in range(num_particles):\n",
        "            cost = cost_function.evaluate(positions[i])\n",
        "            if cost < personal_best_costs[i]:\n",
        "                personal_best_positions[i] = positions[i].copy()\n",
        "                personal_best_costs[i] = cost\n",
        "\n",
        "                # Update the global best position and cost\n",
        "                if cost < global_best_cost:\n",
        "                    global_best_position = positions[i].copy()\n",
        "                    global_best_cost = cost\n",
        "\n",
        "    return global_best_position, global_best_cost\n"
      ],
      "metadata": {
        "id": "Zu5AbtZ51knK"
      },
      "execution_count": null,
      "outputs": []
    },
    {
      "cell_type": "code",
      "source": [
        "pop_size = 1000\n",
        "design_size = 4\n",
        "num_generations = 500\n",
        "\n",
        "best_design, best_fitness = genetic_algorithm(pop_size, design_size, num_generations)\n",
        "all = genetic_algorithm(pop_size, design_size, num_generations)\n",
        "\n",
        "#h (height), l (length), t (thickness), and b (width):\n",
        "\n",
        "print(\"Best design: \", best_design)\n",
        "print(\"Best fitness: \", best_fitness)\n",
        "print(\"all\" , all)"
      ],
      "metadata": {
        "colab": {
          "base_uri": "https://localhost:8080/"
        },
        "id": "GESXMIyKfRZU",
        "outputId": "4f3e7301-bd04-4ffc-e2e7-bec01cc6a32e"
      },
      "execution_count": null,
      "outputs": [
        {
          "output_type": "stream",
          "name": "stdout",
          "text": [
            "size 1000 4\n",
            "size 1000 4\n",
            "Best design:  [1.03177267 0.32352303 0.13013891 1.17335962]\n",
            "Best fitness:  6.813776762715063\n",
            "all (array([0.56370355, 0.26430367, 0.19024703, 1.1368552 ]), 27.072628186601364)\n"
          ]
        }
      ]
    },
    {
      "cell_type": "markdown",
      "source": [
        "### **Util functions**"
      ],
      "metadata": {
        "id": "BzGUJhyLTel-"
      }
    },
    {
      "cell_type": "code",
      "source": [
        "def summarize_objective_function_values(objective_function_values):\n",
        "    min_value = np.min(objective_function_values)\n",
        "    max_value = np.max(objective_function_values)\n",
        "    mean_value = np.mean(objective_function_values)\n",
        "    median_value = np.median(objective_function_values)\n",
        "    std_value = np.std(objective_function_values)\n",
        "    \n",
        "    return (min_value, max_value, mean_value, median_value, std_value)"
      ],
      "metadata": {
        "id": "C9IsRE17TdWL"
      },
      "execution_count": null,
      "outputs": []
    },
    {
      "cell_type": "code",
      "source": [
        "import matplotlib.pyplot as plt\n",
        "import numpy as np\n",
        "\n",
        "def plot_convergence(fitness_values):\n",
        "    plt.figure(figsize=(10, 5))\n",
        "    plt.plot(range(len(fitness_values)), np.log10(fitness_values[:, 0]), label=\"Min Fitness Value\")\n",
        "    plt.plot(range(len(fitness_values)), np.log10(fitness_values[:, 1]), label=\"Max Fitness Value\")\n",
        "    plt.plot(range(len(fitness_values)), np.log10(fitness_values[:, 2]), label=\"Mean Fitness Value\")\n",
        "    plt.xlabel(\"Iteration\")\n",
        "    plt.ylabel(\"Log 10 of Fitness Value\")\n",
        "    plt.legend()\n",
        "    plt.show()"
      ],
      "metadata": {
        "id": "uGJd20o3TjzT"
      },
      "execution_count": null,
      "outputs": []
    },
    {
      "cell_type": "markdown",
      "source": [
        "### **Image restoration application**"
      ],
      "metadata": {
        "id": "DjOPvgGPUGUT"
      }
    },
    {
      "cell_type": "code",
      "execution_count": null,
      "metadata": {
        "id": "WIRKCrQNKrQQ"
      },
      "outputs": [],
      "source": [
        "# GENETIC ALGO APPLY TO IMAGE RESTORATION\n",
        "\n",
        "import numpy as np\n",
        "import random\n",
        "import deap\n",
        "from deap import base, creator, tools\n",
        "\n",
        "# Define the evaluation function for the optimization problem\n",
        "def eval_func(individual):\n",
        "    # Calculate the fitness value based on the image restoration problem\n",
        "    fitness = ...\n",
        "    return fitness,\n",
        "\n",
        "# Define the problem-specific parameters\n",
        "IMAGE_WIDTH = ...\n",
        "IMAGE_HEIGHT = ...\n",
        "POPULATION_SIZE = ...\n",
        "NUM_GENERATIONS = ...\n",
        "\n",
        "# Create a DEAP optimization problem\n",
        "creator.create(\"FitnessMax\", base.Fitness, weights=(1.0,))\n",
        "creator.create(\"Individual\", list, fitness=creator.FitnessMax)\n",
        "\n",
        "# Initialize the toolbox\n",
        "toolbox = base.Toolbox()\n",
        "toolbox.register(\"attr_bool\", random.randint, 0, 1)\n",
        "toolbox.register(\"individual\", tools.initRepeat, creator.Individual, toolbox.attr_bool, IMAGE_WIDTH * IMAGE_HEIGHT)\n",
        "toolbox.register(\"population\", tools.initRepeat, list, toolbox.individual)\n",
        "\n",
        "# Define the genetic operators\n",
        "toolbox.register(\"evaluate\", eval_func)\n",
        "toolbox.register(\"mate\", tools.cxTwoPoint)\n",
        "toolbox.register(\"mutate\", tools.mutFlipBit, indpb=0.05)\n",
        "toolbox.register(\"select\", tools.selTournament, tournsize=3)\n",
        "\n",
        "# Start the optimization process\n",
        "population = toolbox.population(n=POPULATION_SIZE)\n",
        "NGEN = NUM_GENERATIONS\n",
        "for gen in range(NGEN):\n",
        "    offspring = algorithms.varAnd(population, toolbox, cxpb=0.5, mutpb=0.1)\n",
        "    fits = toolbox.map(toolbox.evaluate, offspring)\n",
        "    for fit, ind in zip(fits, offspring):\n",
        "        ind.fitness.values = fit\n",
        "    population = toolbox.select(offspring, k=len(population))\n",
        "\n",
        "best_individual = tools.selBest(population, k=1)[0]\n"
      ]
    },
    {
      "cell_type": "markdown",
      "source": [
        "One swarm intelligence approach that can be used for image restoration is Particle Swarm Optimization (PSO). PSO is a population-based optimization algorithm that is inspired by the social behavior of birds flocking or fish schooling. The basic idea of PSO is to maintain a set of candidate solutions, called particles, which fly through the solution space and update their positions based on their own experience and the experience of other particles. The particles are moved towards the best solution found so far by the swarm, which is referred to as the global best solution.\n",
        "\n",
        "Here is a simple implementation of PSO for image restoration in Python:"
      ],
      "metadata": {
        "id": "hb70jjpbQm5l"
      }
    },
    {
      "cell_type": "code",
      "source": [
        "import numpy as np\n",
        "import cv2\n",
        "\n",
        "def restore_image(image):\n",
        "    # read the image and convert it to grayscale\n",
        "    img = cv2.imread(image, cv2.IMREAD_GRAYSCALE)\n",
        "\n",
        "    # define the number of particles and iterations\n",
        "    num_particles = 100\n",
        "    num_iterations = 1000\n",
        "\n",
        "    # initialize the particles\n",
        "    particles = np.random.rand(num_particles, img.shape[0] * img.shape[1])\n",
        "    particles = particles * 255\n",
        "    particles = particles.astype(np.uint8)\n",
        "\n",
        "    # initialize the velocity and best position of each particle\n",
        "    velocity = np.zeros(particles.shape)\n",
        "    best_particle_pos = particles.copy()\n",
        "    best_particle_fitness = np.zeros(num_particles)\n",
        "\n",
        "    # initialize the global best particle\n",
        "    global_best_particle = particles[0]\n",
        "    global_best_fitness = np.inf\n",
        "\n",
        "    # set the weight, acceleration coefficients and random values\n",
        "    weight = 0.729\n",
        "    c1 = 1.49445\n",
        "    c2 = 1.49445\n",
        "    r1 = np.random.rand(num_particles)\n",
        "    r2 = np.random.rand(num_particles)\n",
        "\n",
        "    # iterate for the specified number of iterations\n",
        "    for i in range(num_iterations):\n",
        "        # evaluate the fitness of each particle\n",
        "        for j in range(num_particles):\n",
        "            fitness = np.sum(np.abs(img - particles[j].reshape(img.shape)))\n",
        "            if fitness < best_particle_fitness[j]:\n",
        "                best_particle_fitness[j] = fitness\n",
        "                best_particle_pos[j] = particles[j].copy()\n",
        "            if fitness < global_best_fitness:\n",
        "                global_best_fitness = fitness\n",
        "                global_best_particle = particles[j].copy()\n",
        "\n",
        "        # update the velocity and position of each particle\n",
        "        for j in range(num_particles):\n",
        "            velocity[j] = weight * velocity[j] + c1 * r1[j] * (best_particle_pos[j] - particles[j]) + c2 * r2[j] * (global_best_particle - particles[j])\n",
        "            particles[j] = particles[j] + velocity[j]\n",
        "\n",
        "    # reshape the global best particle to the original shape of the image\n",
        "    restored_img = global_best_particle.reshape(img.shape)\n",
        "\n",
        "    return restored_img\n",
        "\n",
        "image_file = '/content/test.jpg'\n",
        "restored_img = restore_image(image_file)    \n"
      ],
      "metadata": {
        "id": "7s9DQLgzL87V"
      },
      "execution_count": null,
      "outputs": []
    },
    {
      "cell_type": "markdown",
      "source": [
        "### Tabela com os resultados"
      ],
      "metadata": {
        "id": "ah8Q1OztcYC_"
      }
    },
    {
      "cell_type": "code",
      "source": [
        "import pandas as pd\n",
        "function_names = ['rosenbrock', 'rosenbrock_2', 'beale', 'mathias', 'ackley', 'booth', 'rastrigin_2d', 'rastrigin_n']\n",
        "\n",
        "methods = ['BFGS', 'L-BFGS-B', 'Powell']\n",
        "metrics = ['max', 'min', 'mean', 'median']\n",
        "\n",
        "data = []\n",
        "for function in table_values:\n",
        "    for func_name, func_data in function.items():\n",
        "        for method in methods:\n",
        "            row = [func_name, method]\n",
        "            for metric in metrics:\n",
        "                row.append(func_data[method][metric])\n",
        "            data.append(row)\n",
        "\n",
        "df = pd.DataFrame(data, columns=['Function', 'Method', 'Max', 'Min', 'Mean', 'Median'])\n",
        "\n",
        "display(df.style.set_caption(\"Comparison of Optimization Methods on Test Functions\").set_table_styles([\n",
        "    {'selector': 'th', 'props': [('background-color', '#f2f2f2'), ('color', '#333'), ('font-weight', 'bold')]},\n",
        "    {'selector': 'td', 'props': [('text-align', 'center'), ('font-size', '14px')]}\n",
        "]))"
      ],
      "metadata": {
        "id": "hYrlntDHiy5A"
      },
      "execution_count": null,
      "outputs": []
    }
  ]
}